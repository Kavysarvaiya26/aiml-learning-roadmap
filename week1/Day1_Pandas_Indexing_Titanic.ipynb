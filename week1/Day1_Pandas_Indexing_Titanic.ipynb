{
 "cells": [
  {
   "cell_type": "markdown",
   "id": "13314cf6",
   "metadata": {},
   "source": [
    "# Day 1: Pandas Indexing Titanic Mini-Project"
   ]
  },
  {
   "cell_type": "code",
   "execution_count": null,
   "id": "8bffc635",
   "metadata": {},
   "outputs": [],
   "source": [
    "\n",
    "import numpy as np\n",
    "import pandas as pd\n",
    "import seaborn as sns\n",
    "import matplotlib.pyplot as plt\n",
    "\n",
    "sns.set_style('whitegrid')\n",
    "\n",
    "titanic = sns.load_dataset('titanic')\n",
    "titanic.head()\n"
   ]
  },
  {
   "cell_type": "code",
   "execution_count": null,
   "id": "93f0cd17",
   "metadata": {},
   "outputs": [],
   "source": [
    "\n",
    "# Extracting subset of columns\n",
    "ex = titanic[[\"age\", \"fare\", \"class\"]]\n",
    "ex.head()\n"
   ]
  },
  {
   "cell_type": "code",
   "execution_count": null,
   "id": "da1783f6",
   "metadata": {},
   "outputs": [],
   "source": [
    "\n",
    "# Conditional selection: passengers older than 50 who survived\n",
    "mini = titanic[(titanic[\"age\"] > 50) & (titanic[\"alive\"] == \"yes\")]\n",
    "mini.head()\n"
   ]
  },
  {
   "cell_type": "markdown",
   "id": "a8c7aa69",
   "metadata": {},
   "source": [
    "👉 Save this file as `Day1_Pandas_Indexing_Titanic.ipynb` inside your repo folder `week1/`."
   ]
  }
 ],
 "metadata": {},
 "nbformat": 4,
 "nbformat_minor": 5
}
