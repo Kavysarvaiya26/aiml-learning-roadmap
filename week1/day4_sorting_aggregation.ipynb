{
 "cells": [
  {
   "cell_type": "markdown",
   "id": "d9777bbd",
   "metadata": {},
   "source": [
    "sorting data\n"
   ]
  },
  {
   "cell_type": "code",
   "execution_count": null,
   "id": "d094f6be",
   "metadata": {},
   "outputs": [
    {
     "ename": "SyntaxError",
     "evalue": "positional argument follows keyword argument (169244785.py, line 15)",
     "output_type": "error",
     "traceback": [
      "  \u001b[36mCell\u001b[39m\u001b[36m \u001b[39m\u001b[32mIn[3]\u001b[39m\u001b[32m, line 15\u001b[39m\n\u001b[31m    \u001b[39m\u001b[31mdft.sort_values(by=\"Age\",False,inplace=True)\u001b[39m\n                                               ^\n\u001b[31mSyntaxError\u001b[39m\u001b[31m:\u001b[39m positional argument follows keyword argument\n"
     ]
    }
   ],
   "source": [
    "import pandas as pd\n",
    "\n",
    "table = {\n",
    "\n",
    "    \"Name\" : [\"Aman\",\"Riya\",\"kavy\",\"neel\",\"simran\",\"Arjun\",\"Meera\",\"dev\"],\n",
    "\n",
    "    \"Age\":[20,21,19,22,23,25,21,24],\n",
    "    \"joining_date\":[11,12,13,14,15,16,17,18],\n",
    "    \"salary\":[55000,100000,40000,65000,78000,80000,92000,60000],\n",
    "    \"City\" :[\"Delhi\", \"Mumbai\",\"ahemdabad\" ,\"Pune\",\"Chennai\",\"Bangalore\" ,\"surat\" ,\"Kolkata\"]\n",
    "\n",
    "}\n",
    "\n",
    "dft = pd.DataFrame(table)\n",
    "dft.sort_values(by=\"Age\", ascending=False ,inplace=True)"
   ]
  },
  {
   "cell_type": "code",
   "execution_count": null,
   "id": "c5b13523",
   "metadata": {},
   "outputs": [],
   "source": []
  }
 ],
 "metadata": {
  "kernelspec": {
   "display_name": "Python 3",
   "language": "python",
   "name": "python3"
  },
  "language_info": {
   "codemirror_mode": {
    "name": "ipython",
    "version": 3
   },
   "file_extension": ".py",
   "mimetype": "text/x-python",
   "name": "python",
   "nbconvert_exporter": "python",
   "pygments_lexer": "ipython3",
   "version": "3.11.1"
  }
 },
 "nbformat": 4,
 "nbformat_minor": 5
}
