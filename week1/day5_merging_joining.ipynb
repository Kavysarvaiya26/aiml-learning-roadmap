{
 "cells": [
  {
   "cell_type": "markdown",
   "id": "767b24e5",
   "metadata": {},
   "source": [
    "merging databases --\n"
   ]
  },
  {
   "cell_type": "code",
   "execution_count": null,
   "id": "597a9adb",
   "metadata": {},
   "outputs": [],
   "source": [
    "import pandas as pd\n",
    "\n",
    "costomer = pd.dataframe({\n",
    "    \"id\" :[1,2,3],\n",
    "    \"name\":[\"ramesh\",\"suresh\",\"kalpesh\"],\n",
    "})\n",
    "\n",
    "orders = pd.dataframe({\n",
    "    \"id\" :[1,2,4],\n",
    "    \"order_amount\":[100,200,300],\n",
    "})\n",
    "\n",
    "merged_database = pd.merge(costomer,orders,on=\"id\",how=\"inner\")"
   ]
  }
 ],
 "metadata": {
  "language_info": {
   "name": "python"
  }
 },
 "nbformat": 4,
 "nbformat_minor": 5
}
